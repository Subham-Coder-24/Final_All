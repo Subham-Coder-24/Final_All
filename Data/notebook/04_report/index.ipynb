{
 "cells": [
  {
   "cell_type": "markdown",
   "metadata": {},
   "source": [
    "For every course how much employee enrolled"
   ]
  },
  {
   "cell_type": "code",
   "execution_count": 2,
   "metadata": {},
   "outputs": [
    {
     "name": "stdout",
     "output_type": "stream",
     "text": [
      "Grouped Data by CourseID with Unique Employee Count:\n",
      "    CourseID  TotalEnrolledEmployeeCount\n",
      "0          1                          11\n",
      "1          2                          10\n",
      "2          3                           3\n",
      "3          4                          11\n",
      "4          5                           7\n",
      "..       ...                         ...\n",
      "95        96                          11\n",
      "96        97                          13\n",
      "97        98                          13\n",
      "98        99                          12\n",
      "99       100                          13\n",
      "\n",
      "[100 rows x 2 columns]\n",
      "Grouped data saved to C:\\Users\\SubhamSwarupPradhan\\Desktop\\Data_Final_Project\\data\\04_report\\Grouped_Enrollment_Data.csv\n"
     ]
    }
   ],
   "source": [
    "import pandas as pd\n",
    "\n",
    "# Load the enrollment data (replace with your actual path)\n",
    "enrollment_path = r'C:\\Users\\SubhamSwarupPradhan\\Desktop\\Data_Final_Project\\data\\02_clean\\filtered_enrollments.csv'  # Update this path to your enrollment CSV\n",
    "enrollment_data = pd.read_csv(enrollment_path)\n",
    "\n",
    "# Clean column names by removing leading/trailing spaces\n",
    "enrollment_data.columns = enrollment_data.columns.str.strip()\n",
    "\n",
    "# Group by CourseID and count unique EmployeeID\n",
    "grouped_data = enrollment_data.groupby('CourseID')['EmployeeID'].nunique().reset_index()\n",
    "\n",
    "# Rename the columns for clarity\n",
    "grouped_data.columns = ['CourseID', 'TotalEnrolledEmployeeCount']\n",
    "\n",
    "# Display the result\n",
    "print(\"Grouped Data by CourseID with Unique Employee Count:\")\n",
    "print(grouped_data)\n",
    "\n",
    "# Save the grouped data to CSV if needed\n",
    "output_path = r'C:\\Users\\SubhamSwarupPradhan\\Desktop\\Data_Final_Project\\data\\04_report\\Grouped_Enrollment_Data.csv'\n",
    "grouped_data.to_csv(output_path, index=False)\n",
    "\n",
    "print(f\"Grouped data saved to {output_path}\")\n"
   ]
  },
  {
   "cell_type": "markdown",
   "metadata": {},
   "source": [
    "Top 3 employee for every course"
   ]
  },
  {
   "cell_type": "code",
   "execution_count": 3,
   "metadata": {},
   "outputs": [
    {
     "name": "stdout",
     "output_type": "stream",
     "text": [
      "Top 3 Quiz Scores for Each Course:\n",
      "     EnrollmentID   EnrollDate  QuizScore  EmployeeID  CourseID\n",
      "0             718  2021-03-17          83         901         1\n",
      "1             385  2023-10-18          80         176         1\n",
      "2             683  2021-05-25          77         781         1\n",
      "3             404  2021-11-18          96         864         2\n",
      "4             345  2023-04-11          94         595         2\n",
      "..            ...          ...        ...         ...       ...\n",
      "295           230  2023-11-01          87         633        99\n",
      "296           572  2022-09-25          76         402        99\n",
      "297           981  2024-05-31          98         442       100\n",
      "298           424  2021-09-30          83         794       100\n",
      "299           229  2022-12-09          74         454       100\n",
      "\n",
      "[300 rows x 5 columns]\n",
      "Top 3 quiz scores saved to C:\\Users\\SubhamSwarupPradhan\\Desktop\\Data_Final_Project\\data\\04_report\\Top_3_Quiz_Scores.csv\n"
     ]
    },
    {
     "name": "stderr",
     "output_type": "stream",
     "text": [
      "C:\\Users\\SubhamSwarupPradhan\\AppData\\Local\\Temp\\ipykernel_268\\2107565322.py:11: DeprecationWarning: DataFrameGroupBy.apply operated on the grouping columns. This behavior is deprecated, and in a future version of pandas the grouping columns will be excluded from the operation. Either pass `include_groups=False` to exclude the groupings or explicitly select the grouping columns after groupby to silence this warning.\n",
      "  top_quizzes = enrollment_data.groupby('CourseID').apply(lambda x: x.nlargest(3, 'QuizScore')).reset_index(drop=True)\n"
     ]
    }
   ],
   "source": [
    "import pandas as pd\n",
    "\n",
    "# Load the enrollment data (replace with your actual path)\n",
    "enrollment_path = r'C:\\Users\\SubhamSwarupPradhan\\Desktop\\Data_Final_Project\\data\\02_clean\\filtered_enrollments.csv'  # Update this path to your enrollment CSV\n",
    "enrollment_data = pd.read_csv(enrollment_path)\n",
    "\n",
    "# Clean column names by removing leading/trailing spaces\n",
    "enrollment_data.columns = enrollment_data.columns.str.strip()\n",
    "\n",
    "# Group by CourseID and get the top 3 QuizScore for each course\n",
    "top_quizzes = enrollment_data.groupby('CourseID').apply(lambda x: x.nlargest(3, 'QuizScore')).reset_index(drop=True)\n",
    "\n",
    "# Display the result\n",
    "print(\"Top 3 Quiz Scores for Each Course:\")\n",
    "print(top_quizzes)\n",
    "\n",
    "# Save the top 3 quiz scores to CSV if needed\n",
    "output_path = r'C:\\Users\\SubhamSwarupPradhan\\Desktop\\Data_Final_Project\\data\\04_report\\Top_3_Quiz_Scores.csv'\n",
    "top_quizzes.to_csv(output_path, index=False)\n",
    "\n",
    "print(f\"Top 3 quiz scores saved to {output_path}\")\n"
   ]
  },
  {
   "cell_type": "markdown",
   "metadata": {},
   "source": [
    "Top 10 Courses by rating"
   ]
  },
  {
   "cell_type": "code",
   "execution_count": 4,
   "metadata": {},
   "outputs": [
    {
     "name": "stdout",
     "output_type": "stream",
     "text": [
      "Top 10 Courses by Average Rating:\n",
      "    CourseID  AverageRating\n",
      "70        72       5.000000\n",
      "97        99       4.750000\n",
      "42        44       4.333333\n",
      "22        23       4.250000\n",
      "48        50       4.200000\n",
      "10        11       4.166667\n",
      "61        63       4.000000\n",
      "13        14       4.000000\n",
      "37        39       4.000000\n",
      "91        93       4.000000\n",
      "Top 10 courses saved to C:\\Users\\SubhamSwarupPradhan\\Desktop\\Data_Final_Project\\data\\04_report\\Top_10_Courses_by_Rating.csv\n"
     ]
    }
   ],
   "source": [
    "import pandas as pd\n",
    "\n",
    "# Load the feedback data (replace with your actual path)\n",
    "feedback_path = r'C:\\Users\\SubhamSwarupPradhan\\Desktop\\Data_Final_Project\\data\\02_clean\\filtered_feedback.csv'  # Update this path to your feedback CSV\n",
    "feedback_data = pd.read_csv(feedback_path)\n",
    "\n",
    "# Clean column names by removing leading/trailing spaces\n",
    "feedback_data.columns = feedback_data.columns.str.strip()\n",
    "\n",
    "# Group by CourseID and calculate the average rating\n",
    "average_rating = feedback_data.groupby('CourseID')['Rating'].mean().reset_index()\n",
    "\n",
    "# Rename the columns for clarity\n",
    "average_rating.columns = ['CourseID', 'AverageRating']\n",
    "\n",
    "# Sort by AverageRating in descending order\n",
    "top_courses = average_rating.sort_values(by='AverageRating', ascending=False).head(10)\n",
    "\n",
    "# Display the top 10 courses by rating\n",
    "print(\"Top 10 Courses by Average Rating:\")\n",
    "print(top_courses)\n",
    "\n",
    "# Save the top courses to a CSV file if needed\n",
    "output_path = r'C:\\Users\\SubhamSwarupPradhan\\Desktop\\Data_Final_Project\\data\\04_report\\Top_10_Courses_by_Rating.csv'\n",
    "top_courses.to_csv(output_path, index=False)\n",
    "\n",
    "print(f\"Top 10 courses saved to {output_path}\")\n"
   ]
  }
 ],
 "metadata": {
  "kernelspec": {
   "display_name": "myenv",
   "language": "python",
   "name": "python3"
  },
  "language_info": {
   "codemirror_mode": {
    "name": "ipython",
    "version": 3
   },
   "file_extension": ".py",
   "mimetype": "text/x-python",
   "name": "python",
   "nbconvert_exporter": "python",
   "pygments_lexer": "ipython3",
   "version": "3.12.4"
  }
 },
 "nbformat": 4,
 "nbformat_minor": 2
}
