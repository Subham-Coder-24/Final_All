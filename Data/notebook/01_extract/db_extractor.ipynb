{
 "cells": [
  {
   "cell_type": "code",
   "execution_count": 15,
   "metadata": {},
   "outputs": [
    {
     "name": "stdout",
     "output_type": "stream",
     "text": [
      "Database connection successful.\n",
      "[('_prisma_migrations',), ('Module',), ('Enrollment',), ('Engagement',), ('Discussion',), ('Course',), ('Employee',), ('Feedback',)]\n",
      "Exported _prisma_migrations to CSV.\n"
     ]
    },
    {
     "name": "stderr",
     "output_type": "stream",
     "text": [
      "C:\\Users\\SubhamSwarupPradhan\\AppData\\Local\\Temp\\ipykernel_13224\\4136258467.py:41: UserWarning: pandas only supports SQLAlchemy connectable (engine/connection) or database string URI or sqlite3 DBAPI2 connection. Other DBAPI2 objects are not tested. Please consider using SQLAlchemy.\n",
      "  df = pd.read_sql(query, conn)\n",
      "C:\\Users\\SubhamSwarupPradhan\\AppData\\Local\\Temp\\ipykernel_13224\\4136258467.py:41: UserWarning: pandas only supports SQLAlchemy connectable (engine/connection) or database string URI or sqlite3 DBAPI2 connection. Other DBAPI2 objects are not tested. Please consider using SQLAlchemy.\n",
      "  df = pd.read_sql(query, conn)\n"
     ]
    },
    {
     "name": "stdout",
     "output_type": "stream",
     "text": [
      "Exported Module to CSV.\n",
      "Exported Enrollment to CSV.\n",
      "Exported Engagement to CSV.\n",
      "Exported Discussion to CSV.\n",
      "Exported Course to CSV.\n",
      "Exported Employee to CSV.\n",
      "Exported Feedback to CSV.\n",
      "Database connection closed.\n"
     ]
    }
   ],
   "source": [
    "import psycopg2\n",
    "import pandas as pd\n",
    "\n",
    "# Online PostgreSQL connection parameters\n",
    "db_params = {\n",
    "    'dbname': 'verceldb',\n",
    "    'user': 'default',\n",
    "    'password': 'SI8DjeN3lTpA',\n",
    "    'host': 'ep-steep-unit-a18vp06t-pooler.ap-southeast-1.aws.neon.tech',\n",
    "    'port': '5432'\n",
    "}\n",
    "\n",
    "# Connect to the PostgreSQL database\n",
    "try:\n",
    "    conn = psycopg2.connect(**db_params)\n",
    "    print(\"Database connection successful.\")\n",
    "except Exception as e:\n",
    "    print(f\"Error connecting to the database: {e}\")\n",
    "    exit()\n",
    "\n",
    "# Create a cursor object\n",
    "cursor = conn.cursor()\n",
    "\n",
    "# Query to get all table names\n",
    "cursor.execute(\"\"\"\n",
    "    SELECT table_name\n",
    "    FROM information_schema.tables\n",
    "    WHERE table_schema='public'\n",
    "\"\"\")\n",
    "\n",
    "# Fetch all table names\n",
    "tables = cursor.fetchall()\n",
    "print(tables)\n",
    "# Loop through each table and export to CSV\n",
    "for table in tables:\n",
    "    table_name = table[0]\n",
    "    # Query to select all data from the table\n",
    "    query = f'SELECT * FROM \"{table_name}\";'\n",
    "    \n",
    "    # Read the data into a DataFrame\n",
    "    df = pd.read_sql(query, conn)\n",
    "    \n",
    "    # Save the DataFrame to a CSV file\n",
    "    df.to_csv(f\"{table_name}.csv\", index=False)\n",
    "    print(f\"Exported {table_name} to CSV.\")\n",
    "\n",
    "# Close the cursor and connection\n",
    "cursor.close()\n",
    "conn.close()\n",
    "print(\"Database connection closed.\")\n"
   ]
  }
 ],
 "metadata": {
  "kernelspec": {
   "display_name": "myenv",
   "language": "python",
   "name": "python3"
  },
  "language_info": {
   "codemirror_mode": {
    "name": "ipython",
    "version": 3
   },
   "file_extension": ".py",
   "mimetype": "text/x-python",
   "name": "python",
   "nbconvert_exporter": "python",
   "pygments_lexer": "ipython3",
   "version": "3.12.4"
  }
 },
 "nbformat": 4,
 "nbformat_minor": 2
}
